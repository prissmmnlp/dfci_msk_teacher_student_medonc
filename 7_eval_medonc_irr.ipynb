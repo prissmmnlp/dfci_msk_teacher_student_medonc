{
 "cells": [
  {
   "cell_type": "code",
   "execution_count": 1,
   "id": "9555e9eb-ef31-452b-b911-244fe69dcbaf",
   "metadata": {},
   "outputs": [],
   "source": [
    "import numpy as np\n",
    "import pandas as pd"
   ]
  },
  {
   "cell_type": "code",
   "execution_count": null,
   "id": "1933a1b4-cb3d-4c6a-a84c-94afe002f960",
   "metadata": {},
   "outputs": [],
   "source": [
    "# this notebook calculates interrater reliability as measured by F1 for two independent manual annotations \n",
    "# of the same oncologist notes at DFCI.\n",
    "# (F1 scores are invariant to which annotation is considered the gold standard)"
   ]
  },
  {
   "cell_type": "code",
   "execution_count": 4,
   "id": "ec8842fb-bdba-4135-abe7-219348acd736",
   "metadata": {},
   "outputs": [],
   "source": [
    "prefix ='/mnt/d/Dropbox (Partners Healthcare)/'"
   ]
  },
  {
   "cell_type": "code",
   "execution_count": 2,
   "id": "af10f91e-b985-4fba-aa8a-d121c8c73bcd",
   "metadata": {},
   "outputs": [],
   "source": [
    "def parse_medonc_file(dataset):\n",
    "    newset = dataset.copy()\n",
    "    newset = newset[newset.redcap_repeat_instrument == 'prissmm_med_onc_assessment']\n",
    "    newset = newset[newset.prissmm_med_onc_assessment_complete == 2]\n",
    "\n",
    "    newset['any_cancer'] = np.where(newset['md_ca'] == 1, 1, 0)\n",
    "    newset['response'] = np.where(newset['md_ca_status'] == 1, 1, 0)\n",
    "    #newset['progression'] = np.where(newset['md_ca_status'] == 4, 1, 0)\n",
    "    newset['progression'] = np.where(np.logical_or(newset['md_ca_status'] == 4, newset['md_ca_status']==3), 1, 0)\n",
    "\n",
    "\n",
    "    newset['date'] = pd.to_datetime(newset.md_onc_visit_dt)\n",
    "\n",
    "    return newset[['record_id','date','any_cancer','progression','response',]]"
   ]
  },
  {
   "cell_type": "code",
   "execution_count": 5,
   "id": "bcb5a65a-e6c7-4fe1-90a4-d24a9efa675d",
   "metadata": {},
   "outputs": [],
   "source": [
    "dataset_list = []\n",
    "for cancer_type in ['nsclc_phase2_new','nsclc_phase2_existing','crc','breast','pancreas','bladder','prostate','rcc_barkouny']:\n",
    "    try:\n",
    "        pts = pd.read_csv(prefix+'profile_3-2023/redcaps/' + cancer_type + '_ptchars.csv', low_memory=False)[['record_id','internal_mrn']]\n",
    "        pts = pts.sort_values(by=['record_id','internal_mrn']).reset_index(drop=True)\n",
    "        pts = pts.groupby('internal_mrn').first().reset_index(drop=False).rename(columns={'internal_mrn':'dfci_mrn'})\n",
    "    except:\n",
    "        pts = pd.read_csv(prefix+'profile_3-2023/redcaps/' + cancer_type + '_ptchars.csv', low_memory=False)[['record_id','local_mrn']]\n",
    "        pts = pts.sort_values(by=['record_id','local_mrn']).reset_index(drop=True)\n",
    "        pts = pts.groupby('local_mrn').first().reset_index(drop=False).rename(columns={'local_mrn':'dfci_mrn'})        \n",
    "\n",
    "    medonc = pd.read_csv(prefix+'profile_3-2023/redcaps/' + cancer_type + '_medonc.csv', low_memory=False)\n",
    "    medonc = parse_medonc_file(medonc)\n",
    "    medonc = pd.merge(pts, medonc, on='record_id').drop(columns='record_id')\n",
    "    medonc['cancer_type'] = cancer_type\n",
    "\n",
    "    dataset_list.append(medonc)"
   ]
  },
  {
   "cell_type": "code",
   "execution_count": 6,
   "id": "6b0245d8-78eb-4a0e-9867-f65690131f63",
   "metadata": {},
   "outputs": [],
   "source": [
    "final = pd.concat(dataset_list, axis=0)"
   ]
  },
  {
   "cell_type": "code",
   "execution_count": 7,
   "id": "505bca0e-8515-4b6c-8aed-a8a65923461f",
   "metadata": {},
   "outputs": [],
   "source": [
    "final['num_curations'] = final.groupby(['dfci_mrn','cancer_type','date']).transform('size')"
   ]
  },
  {
   "cell_type": "code",
   "execution_count": 8,
   "id": "f36980dc-5a57-465b-8514-7deaaa83a7e1",
   "metadata": {},
   "outputs": [
    {
     "data": {
      "text/plain": [
       "1.0    78882\n",
       "2.0      102\n",
       "3.0        3\n",
       "Name: num_curations, dtype: int64"
      ]
     },
     "execution_count": 8,
     "metadata": {},
     "output_type": "execute_result"
    }
   ],
   "source": [
    "final.num_curations.value_counts()"
   ]
  },
  {
   "cell_type": "code",
   "execution_count": 9,
   "id": "b13326c8-0e62-452e-a9e0-f6ee0e1f4850",
   "metadata": {},
   "outputs": [],
   "source": [
    "double = final[final.num_curations == 2]"
   ]
  },
  {
   "cell_type": "code",
   "execution_count": 11,
   "id": "3db6af27-ae8e-4bc7-a08c-114223224473",
   "metadata": {},
   "outputs": [
    {
     "name": "stderr",
     "output_type": "stream",
     "text": [
      "/tmp/ipykernel_13194/1780338224.py:1: SettingWithCopyWarning: \n",
      "A value is trying to be set on a copy of a slice from a DataFrame.\n",
      "Try using .loc[row_indexer,col_indexer] = value instead\n",
      "\n",
      "See the caveats in the documentation: https://pandas.pydata.org/pandas-docs/stable/user_guide/indexing.html#returning-a-view-versus-a-copy\n",
      "  double['id_in_group'] = double.groupby(['dfci_mrn','cancer_type']).cumcount()\n"
     ]
    }
   ],
   "source": [
    "double['id_in_group'] = double.groupby(['dfci_mrn','cancer_type']).cumcount()"
   ]
  },
  {
   "cell_type": "code",
   "execution_count": 13,
   "id": "975bb176-a5ba-4467-b97b-9b1eaa48ba60",
   "metadata": {},
   "outputs": [],
   "source": [
    "from sklearn.metrics import f1_score"
   ]
  },
  {
   "cell_type": "code",
   "execution_count": 14,
   "id": "ef6f0f9f-2163-454f-a9b1-68328aa87ede",
   "metadata": {},
   "outputs": [
    {
     "name": "stdout",
     "output_type": "stream",
     "text": [
      "any_cancer\n",
      "any_cancer_second   0   1\n",
      "any_cancer_first         \n",
      "0                  14   1\n",
      "1                   2  19\n",
      "f1 #1\n",
      "0.9268292682926829\n",
      "f1 #2\n",
      "0.9268292682926829\n",
      "average f1\n",
      "0.9268292682926829\n",
      "\n",
      "\n",
      "progression\n",
      "progression_second   0  1\n",
      "progression_first        \n",
      "0                   25  4\n",
      "1                    2  5\n",
      "f1 #1\n",
      "0.6250000000000001\n",
      "f1 #2\n",
      "0.6250000000000001\n",
      "average f1\n",
      "0.6250000000000001\n",
      "\n",
      "\n",
      "response\n",
      "response_second   0  1\n",
      "response_first        \n",
      "0                35  0\n",
      "1                 0  1\n",
      "f1 #1\n",
      "1.0\n",
      "f1 #2\n",
      "1.0\n",
      "average f1\n",
      "1.0\n",
      "\n",
      "\n"
     ]
    },
    {
     "name": "stderr",
     "output_type": "stream",
     "text": [
      "/tmp/ipykernel_13194/1737609795.py:3: SettingWithCopyWarning: \n",
      "A value is trying to be set on a copy of a slice from a DataFrame.\n",
      "Try using .loc[row_indexer,col_indexer] = value instead\n",
      "\n",
      "See the caveats in the documentation: https://pandas.pydata.org/pandas-docs/stable/user_guide/indexing.html#returning-a-view-versus-a-copy\n",
      "  first[outcome + '_first'] = first[outcome]\n",
      "/tmp/ipykernel_13194/1737609795.py:5: SettingWithCopyWarning: \n",
      "A value is trying to be set on a copy of a slice from a DataFrame.\n",
      "Try using .loc[row_indexer,col_indexer] = value instead\n",
      "\n",
      "See the caveats in the documentation: https://pandas.pydata.org/pandas-docs/stable/user_guide/indexing.html#returning-a-view-versus-a-copy\n",
      "  second[outcome + '_second'] = second[outcome]\n",
      "/tmp/ipykernel_13194/1737609795.py:3: SettingWithCopyWarning: \n",
      "A value is trying to be set on a copy of a slice from a DataFrame.\n",
      "Try using .loc[row_indexer,col_indexer] = value instead\n",
      "\n",
      "See the caveats in the documentation: https://pandas.pydata.org/pandas-docs/stable/user_guide/indexing.html#returning-a-view-versus-a-copy\n",
      "  first[outcome + '_first'] = first[outcome]\n",
      "/tmp/ipykernel_13194/1737609795.py:5: SettingWithCopyWarning: \n",
      "A value is trying to be set on a copy of a slice from a DataFrame.\n",
      "Try using .loc[row_indexer,col_indexer] = value instead\n",
      "\n",
      "See the caveats in the documentation: https://pandas.pydata.org/pandas-docs/stable/user_guide/indexing.html#returning-a-view-versus-a-copy\n",
      "  second[outcome + '_second'] = second[outcome]\n",
      "/tmp/ipykernel_13194/1737609795.py:3: SettingWithCopyWarning: \n",
      "A value is trying to be set on a copy of a slice from a DataFrame.\n",
      "Try using .loc[row_indexer,col_indexer] = value instead\n",
      "\n",
      "See the caveats in the documentation: https://pandas.pydata.org/pandas-docs/stable/user_guide/indexing.html#returning-a-view-versus-a-copy\n",
      "  first[outcome + '_first'] = first[outcome]\n",
      "/tmp/ipykernel_13194/1737609795.py:5: SettingWithCopyWarning: \n",
      "A value is trying to be set on a copy of a slice from a DataFrame.\n",
      "Try using .loc[row_indexer,col_indexer] = value instead\n",
      "\n",
      "See the caveats in the documentation: https://pandas.pydata.org/pandas-docs/stable/user_guide/indexing.html#returning-a-view-versus-a-copy\n",
      "  second[outcome + '_second'] = second[outcome]\n"
     ]
    }
   ],
   "source": [
    "for outcome in ['any_cancer','progression','response']:\n",
    "    first = double[double.id_in_group == 0]\n",
    "    first[outcome + '_first'] = first[outcome]\n",
    "    second = double[double.id_in_group == 1]\n",
    "    second[outcome + '_second'] = second[outcome]\n",
    "    combined = pd.merge(first, second, on = ['dfci_mrn','cancer_type','date'])\n",
    "    combined = combined[[outcome + '_first', outcome + '_second']]\n",
    "    print(outcome)\n",
    "    print(pd.crosstab(combined[outcome + '_first'], combined[outcome + '_second']))\n",
    "    print('f1 #1')\n",
    "    first_f1 = f1_score(combined[outcome + '_first'], combined[outcome + '_second'])\n",
    "    print(first_f1)\n",
    "    print('f1 #2')\n",
    "    second_f1 = f1_score(combined[outcome + '_second'], combined[outcome + '_first'])\n",
    "    print(second_f1)\n",
    "    print('average f1')\n",
    "    print((first_f1 + second_f1)/2)\n",
    "    print('\\n')\n",
    "    \n"
   ]
  },
  {
   "cell_type": "code",
   "execution_count": null,
   "id": "af565f5c-4244-40d4-a26e-8560256d4430",
   "metadata": {},
   "outputs": [],
   "source": []
  }
 ],
 "metadata": {
  "kernelspec": {
   "display_name": "Python 3 (ipykernel)",
   "language": "python",
   "name": "python3"
  },
  "language_info": {
   "codemirror_mode": {
    "name": "ipython",
    "version": 3
   },
   "file_extension": ".py",
   "mimetype": "text/x-python",
   "name": "python",
   "nbconvert_exporter": "python",
   "pygments_lexer": "ipython3",
   "version": "3.10.10"
  }
 },
 "nbformat": 4,
 "nbformat_minor": 5
}
