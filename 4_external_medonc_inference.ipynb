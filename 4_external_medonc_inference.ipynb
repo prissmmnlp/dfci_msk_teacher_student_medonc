{
 "cells": [
  {
   "cell_type": "code",
   "execution_count": 11,
   "metadata": {},
   "outputs": [],
   "source": [
    "import pandas as pd\n",
    "import numpy as np\n",
    "from transformers import AutoTokenizer\n",
    "import torch\n",
    "import os\n",
    "os.environ[\"TOKENIZERS_PARALLELISM\"] = \"false\""
   ]
  },
  {
   "cell_type": "code",
   "execution_count": 12,
   "metadata": {},
   "outputs": [],
   "source": [
    "# this notebook is for running inference on external data with a previously trained student model\n",
    "external_data = pd.read_csv('./synthetic_example_medonc_data.csv')\n",
    "device = 'cuda'"
   ]
  },
  {
   "cell_type": "code",
   "execution_count": 13,
   "metadata": {},
   "outputs": [],
   "source": [
    "\n",
    "from transformers import AutoModel\n",
    "\n",
    "\n",
    "\n",
    "from torch.nn import functional as F\n",
    "import torch.nn as nn\n",
    "from torch.utils.data import DataLoader\n",
    "from torch.nn import LSTM, Linear, Embedding, Conv1d, MaxPool1d, GRU, LSTMCell, Dropout, Module, Sequential, ReLU\n",
    "\n",
    "   \n",
    "class LabeledModel(nn.Module):\n",
    "\n",
    "    def __init__(self):\n",
    "        super(LabeledModel, self).__init__()\n",
    "        \n",
    "        self.longformer = AutoModel.from_pretrained('yikuan8/Clinical-Longformer')\n",
    "        \n",
    "        self.any_cancer_head = Sequential(Linear(768, 128), ReLU(), Linear(128,1))\n",
    "        self.response_head = Sequential(Linear(768, 128), ReLU(), Linear(128,1))\n",
    "        self.progression_head = Sequential(Linear(768, 128), ReLU(), Linear(128,1))\n",
    "\n",
    "\n",
    "        \n",
    "    def forward(self, x_text_tensor, x_attention_mask):\n",
    "        # x should be tuple of input IDs, then attention mask\n",
    "        global_attention_mask = torch.zeros_like(x_text_tensor).to(device)\n",
    "        # global attention on cls token\n",
    "        global_attention_mask[:, 0] = 1\n",
    "        main = self.longformer(x_text_tensor, x_attention_mask, global_attention_mask)\n",
    "        main = main.last_hidden_state[:,0,:].squeeze(1)\n",
    "\n",
    "                                          \n",
    "        any_cancer_out = self.any_cancer_head(main)\n",
    "        response_out = self.response_head(main)\n",
    "        progression_out = self.progression_head(main)\n",
    "\n",
    "\n",
    "\n",
    "        \n",
    "        return any_cancer_out, response_out, progression_out\n",
    "        \n",
    "\n",
    "\n"
   ]
  },
  {
   "cell_type": "code",
   "execution_count": null,
   "metadata": {},
   "outputs": [],
   "source": []
  },
  {
   "cell_type": "code",
   "execution_count": null,
   "metadata": {},
   "outputs": [],
   "source": []
  },
  {
   "cell_type": "code",
   "execution_count": 14,
   "metadata": {},
   "outputs": [],
   "source": [
    "from torch.utils import data\n",
    "\n",
    "class UnLabeledDataset(data.Dataset):\n",
    "    def __init__(self, pandas_dataset):\n",
    "        self.data = pandas_dataset.copy()\n",
    "        self.indices = self.data.index.unique()\n",
    "        self.tokenizer = AutoTokenizer.from_pretrained(\"yikuan8/Clinical-Longformer\", truncation_side='left')        \n",
    "        \n",
    "        \n",
    "    def __len__(self):\n",
    "        # how many notes in the dataset\n",
    "        return len(self.indices)\n",
    "    \n",
    "    def __getitem__(self, index):\n",
    "        # get data for notes corresponding to indices passed\n",
    "        this_index = self.indices[index]\n",
    "        pand = self.data.loc[this_index, :]\n",
    "    \n",
    "        encoded = self.tokenizer(pand['text'], padding='max_length', truncation=True)\n",
    "\n",
    "        x_text_tensor = torch.tensor(encoded.input_ids, dtype=torch.long)\n",
    "        x_attention_mask = torch.tensor(encoded.attention_mask, dtype=torch.long)\n",
    "        \n",
    "\n",
    "        return x_text_tensor, x_attention_mask\n",
    "        \n",
    "        "
   ]
  },
  {
   "cell_type": "code",
   "execution_count": 15,
   "metadata": {},
   "outputs": [
    {
     "name": "stderr",
     "output_type": "stream",
     "text": [
      "Some weights of LongformerModel were not initialized from the model checkpoint at yikuan8/Clinical-Longformer and are newly initialized: ['longformer.pooler.dense.bias', 'longformer.pooler.dense.weight']\n",
      "You should probably TRAIN this model on a down-stream task to be able to use it for predictions and inference.\n"
     ]
    }
   ],
   "source": [
    "# write out inference dataset\n",
    "themodel = LabeledModel()\n",
    "themodel.load_state_dict(torch.load('dfci_mimic_note_longformer.pt'))\n",
    "themodel.to(device)\n",
    "\n",
    "themodel.eval()\n",
    "\n",
    "no_shuffle_valid_dataset = data.DataLoader(UnLabeledDataset(external_data), batch_size=8, shuffle=False, num_workers=0)\n",
    "\n",
    "output_prediction_lists = [[] for x in range(3)]\n",
    "for batch in no_shuffle_valid_dataset:\n",
    "    x_text_ids = batch[0].to(device)\n",
    "    x_attention_mask = batch[1].to(device)\n",
    "    with torch.no_grad():\n",
    "        predictions = themodel(x_text_ids, x_attention_mask)\n",
    "    for j in range(3):\n",
    "        output_prediction_lists[j].append(predictions[j].detach().cpu().numpy())\n",
    "\n",
    "output_prediction_lists = [np.concatenate(x) for x in output_prediction_lists]\n",
    "\n",
    "\n",
    "output_external = external_data.copy()\n",
    "for x in range(3):\n",
    "    output_external['outcome_' + str(x) + '_logit'] = output_prediction_lists[x]\n",
    "\n"
   ]
  },
  {
   "cell_type": "code",
   "execution_count": 16,
   "metadata": {},
   "outputs": [],
   "source": [
    "output_external = output_external.rename(columns={'outcome_0_logit':'any_cancer_logit',\n",
    "                                                  'outcome_1_logit':'response_logit',\n",
    "                                                  'outcome_2_logit':'progression_logit'})\n"
   ]
  },
  {
   "cell_type": "code",
   "execution_count": 17,
   "metadata": {},
   "outputs": [],
   "source": [
    "output_external.to_csv('./synthetic_example_medonc_inference_result.csv')"
   ]
  },
  {
   "cell_type": "code",
   "execution_count": 18,
   "metadata": {},
   "outputs": [
    {
     "data": {
      "text/html": [
       "<div>\n",
       "<style scoped>\n",
       "    .dataframe tbody tr th:only-of-type {\n",
       "        vertical-align: middle;\n",
       "    }\n",
       "\n",
       "    .dataframe tbody tr th {\n",
       "        vertical-align: top;\n",
       "    }\n",
       "\n",
       "    .dataframe thead th {\n",
       "        text-align: right;\n",
       "    }\n",
       "</style>\n",
       "<table border=\"1\" class=\"dataframe\">\n",
       "  <thead>\n",
       "    <tr style=\"text-align: right;\">\n",
       "      <th></th>\n",
       "      <th>claude2_sonnet_prompt</th>\n",
       "      <th>text</th>\n",
       "      <th>any_cancer_logit</th>\n",
       "      <th>response_logit</th>\n",
       "      <th>progression_logit</th>\n",
       "    </tr>\n",
       "  </thead>\n",
       "  <tbody>\n",
       "    <tr>\n",
       "      <th>0</th>\n",
       "      <td>A patient with a history of lung cancer is see...</td>\n",
       "      <td>PROGRESS NOTE\\n\\nPatient: John Doe\\nDate of Vi...</td>\n",
       "      <td>-5.174407</td>\n",
       "      <td>-6.148384</td>\n",
       "      <td>-5.649448</td>\n",
       "    </tr>\n",
       "    <tr>\n",
       "      <th>1</th>\n",
       "      <td>A patient with metastatic breast cancer with m...</td>\n",
       "      <td>Patient Name: Jane Doe\\r\\nMRN: 123456\\r\\nDate ...</td>\n",
       "      <td>5.674859</td>\n",
       "      <td>-5.199490</td>\n",
       "      <td>2.578383</td>\n",
       "    </tr>\n",
       "    <tr>\n",
       "      <th>2</th>\n",
       "      <td>A patient with a history of resected colorecta...</td>\n",
       "      <td>PROGRESS NOTE\\r\\n\\r\\nPatient: John Doe\\r\\nDOB:...</td>\n",
       "      <td>5.230693</td>\n",
       "      <td>-6.157811</td>\n",
       "      <td>2.323241</td>\n",
       "    </tr>\n",
       "    <tr>\n",
       "      <th>3</th>\n",
       "      <td>A patient with metastatic bladder cancer to ly...</td>\n",
       "      <td>SUBJECTIVE:\\r\\npatient is a 68-year-old female...</td>\n",
       "      <td>4.673669</td>\n",
       "      <td>1.951149</td>\n",
       "      <td>-3.411746</td>\n",
       "    </tr>\n",
       "    <tr>\n",
       "      <th>4</th>\n",
       "      <td>A patient with clear cell renal cell carcinoma...</td>\n",
       "      <td>Patient: John Doe\\r\\nDOB: 01/01/1970\\r\\nMRN: 1...</td>\n",
       "      <td>6.016739</td>\n",
       "      <td>-5.540566</td>\n",
       "      <td>1.989165</td>\n",
       "    </tr>\n",
       "  </tbody>\n",
       "</table>\n",
       "</div>"
      ],
      "text/plain": [
       "                               claude2_sonnet_prompt  \\\n",
       "0  A patient with a history of lung cancer is see...   \n",
       "1  A patient with metastatic breast cancer with m...   \n",
       "2  A patient with a history of resected colorecta...   \n",
       "3  A patient with metastatic bladder cancer to ly...   \n",
       "4  A patient with clear cell renal cell carcinoma...   \n",
       "\n",
       "                                                text  any_cancer_logit  \\\n",
       "0  PROGRESS NOTE\\n\\nPatient: John Doe\\nDate of Vi...         -5.174407   \n",
       "1  Patient Name: Jane Doe\\r\\nMRN: 123456\\r\\nDate ...          5.674859   \n",
       "2  PROGRESS NOTE\\r\\n\\r\\nPatient: John Doe\\r\\nDOB:...          5.230693   \n",
       "3  SUBJECTIVE:\\r\\npatient is a 68-year-old female...          4.673669   \n",
       "4  Patient: John Doe\\r\\nDOB: 01/01/1970\\r\\nMRN: 1...          6.016739   \n",
       "\n",
       "   response_logit  progression_logit  \n",
       "0       -6.148384          -5.649448  \n",
       "1       -5.199490           2.578383  \n",
       "2       -6.157811           2.323241  \n",
       "3        1.951149          -3.411746  \n",
       "4       -5.540566           1.989165  "
      ]
     },
     "execution_count": 18,
     "metadata": {},
     "output_type": "execute_result"
    }
   ],
   "source": [
    "output_external.head()"
   ]
  },
  {
   "cell_type": "code",
   "execution_count": null,
   "metadata": {},
   "outputs": [],
   "source": []
  }
 ],
 "metadata": {
  "kernelspec": {
   "display_name": "Python 3 (ipykernel)",
   "language": "python",
   "name": "python3"
  },
  "language_info": {
   "codemirror_mode": {
    "name": "ipython",
    "version": 3
   },
   "file_extension": ".py",
   "mimetype": "text/x-python",
   "name": "python",
   "nbconvert_exporter": "python",
   "pygments_lexer": "ipython3",
   "version": "3.10.10"
  }
 },
 "nbformat": 4,
 "nbformat_minor": 4
}
