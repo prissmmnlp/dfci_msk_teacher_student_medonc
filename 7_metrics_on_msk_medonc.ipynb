{
 "cells": [
  {
   "cell_type": "code",
   "execution_count": 1,
   "id": "b0c6dc8e-a1ac-42b9-a16b-c0fb4c9a3f54",
   "metadata": {},
   "outputs": [],
   "source": [
    "import numpy as np\n",
    "import pandas as pd\n",
    "import torch\n",
    "from torch.utils import data\n",
    "from transformers import AutoTokenizer\n",
    "from torch.utils.data import DataLoader"
   ]
  },
  {
   "cell_type": "code",
   "execution_count": null,
   "id": "6c2df83a-6561-45f7-90a4-230c8c40a53b",
   "metadata": {},
   "outputs": [],
   "source": [
    "# this notebook evaluates the performance of the DFCI-medonc-student model on MSK notes.\n",
    "# MSK ran models on their own data and then output the deidentified dataset used here."
   ]
  },
  {
   "cell_type": "code",
   "execution_count": 2,
   "id": "a9430e05-cf8a-4d10-9db5-faf8e15eac02",
   "metadata": {},
   "outputs": [],
   "source": [
    "output_dataset = pd.read_csv('/mnt/d/Dropbox (Partners HealthCare)/dfci_mimic_note_bert/msk_note_data/msk_predictions_medonc_noPHI.csv')"
   ]
  },
  {
   "cell_type": "code",
   "execution_count": 3,
   "id": "bcbf0016-c32f-46df-998e-d39c5048723b",
   "metadata": {},
   "outputs": [
    {
     "name": "stdout",
     "output_type": "stream",
     "text": [
      "<class 'pandas.core.frame.DataFrame'>\n",
      "RangeIndex: 40701 entries, 0 to 40700\n",
      "Data columns (total 8 columns):\n",
      " #   Column             Non-Null Count  Dtype  \n",
      "---  ------             --------------  -----  \n",
      " 0   DMP_ID             40701 non-null  object \n",
      " 1   any_cancer_label   40701 non-null  bool   \n",
      " 2   response_label     40701 non-null  bool   \n",
      " 3   progression_label  40701 non-null  bool   \n",
      " 4   cancer_type        40701 non-null  object \n",
      " 5   any_cancer_logit   40701 non-null  float64\n",
      " 6   response_logit     40701 non-null  float64\n",
      " 7   progression_logit  40701 non-null  float64\n",
      "dtypes: bool(3), float64(3), object(2)\n",
      "memory usage: 1.7+ MB\n"
     ]
    }
   ],
   "source": [
    "output_dataset.info()\n"
   ]
  },
  {
   "cell_type": "code",
   "execution_count": 9,
   "id": "9e431466-eb3d-43d6-8b59-d0d261457ef4",
   "metadata": {},
   "outputs": [
    {
     "data": {
      "text/plain": [
       "nsclc       14026\n",
       "crc         11900\n",
       "brca         5370\n",
       "prostate     4998\n",
       "pancreas     4407\n",
       "Name: cancer_type, dtype: int64"
      ]
     },
     "execution_count": 9,
     "metadata": {},
     "output_type": "execute_result"
    }
   ],
   "source": [
    "output_dataset.cancer_type.value_counts()"
   ]
  },
  {
   "cell_type": "code",
   "execution_count": 4,
   "id": "399f3989-834e-4ecb-84fc-0966891e44da",
   "metadata": {},
   "outputs": [],
   "source": [
    "output_dataset = output_dataset.rename(columns={'any_cancer_label':'any_cancer', 'response_label':'response', 'progression_label':'progression'})"
   ]
  },
  {
   "cell_type": "code",
   "execution_count": 6,
   "id": "6bc78c41-74fd-433e-ab80-248323495b3d",
   "metadata": {},
   "outputs": [],
   "source": [
    "from utils_102023 import eval_model"
   ]
  },
  {
   "cell_type": "code",
   "execution_count": 7,
   "id": "21f944bb-c2c6-4662-aa8b-af96f9c35d24",
   "metadata": {},
   "outputs": [
    {
     "name": "stdout",
     "output_type": "stream",
     "text": [
      "all cancers\n",
      "any_cancer\n",
      "AUC 0.9556629006880287\n",
      "Outcome probability: 0.8200535613375592\n",
      "Average precision score: 0.99\n",
      "Best F1: 0.9573217783581647\n",
      "Best F1 threshold: -1.0427246\n",
      "-1.0427246\n",
      "\n",
      "\n",
      "all cancers\n",
      "progression\n",
      "AUC 0.9102195303905977\n",
      "Outcome probability: 0.158448195376035\n",
      "Average precision score: 0.71\n",
      "Best F1: 0.672753834915997\n",
      "Best F1 threshold: -1.243615\n",
      "-1.243615\n",
      "\n",
      "\n",
      "all cancers\n",
      "response\n",
      "AUC 0.9400174814769453\n",
      "Outcome probability: 0.14233065526645536\n",
      "Average precision score: 0.76\n",
      "Best F1: 0.7171417101565637\n",
      "Best F1 threshold: -0.21693532\n",
      "-0.21693532\n",
      "\n",
      "\n"
     ]
    }
   ],
   "source": [
    "for outcome in ['any_cancer','progression','response']:\n",
    "    print('all cancers')\n",
    "    print(outcome)\n",
    "    print(eval_model(output_dataset[outcome + '_logit'], output_dataset[outcome], graph=False))\n",
    "    print(\"\\n\")"
   ]
  },
  {
   "cell_type": "code",
   "execution_count": null,
   "id": "849bb509-e6e1-49b7-b6b7-19b59881eb21",
   "metadata": {},
   "outputs": [],
   "source": []
  },
  {
   "cell_type": "code",
   "execution_count": 8,
   "id": "460a8791-1fa5-4388-93a5-d3b4377a2027",
   "metadata": {},
   "outputs": [
    {
     "name": "stdout",
     "output_type": "stream",
     "text": [
      "pancreas\n",
      "any_cancer\n",
      "AUC 0.9842499158818416\n",
      "Outcome probability: 0.8089403222146585\n",
      "Average precision score: 1.00\n",
      "Best F1: 0.9763537148453897\n",
      "Best F1 threshold: -1.0610669\n",
      "-1.0610669\n",
      "\n",
      "\n",
      "pancreas\n",
      "progression\n",
      "AUC 0.9401933363687329\n",
      "Outcome probability: 0.15793056501021102\n",
      "Average precision score: 0.79\n",
      "Best F1: 0.7344398340248962\n",
      "Best F1 threshold: -1.1829004\n",
      "-1.1829004\n",
      "\n",
      "\n",
      "pancreas\n",
      "response\n",
      "AUC 0.9605520401712682\n",
      "Outcome probability: 0.13637395053324256\n",
      "Average precision score: 0.82\n",
      "Best F1: 0.7589833479404031\n",
      "Best F1 threshold: 0.8911807\n",
      "0.8911807\n",
      "\n",
      "\n",
      "brca\n",
      "any_cancer\n",
      "AUC 0.9570214499163029\n",
      "Outcome probability: 0.7748603351955308\n",
      "Average precision score: 0.98\n",
      "Best F1: 0.9496764917325664\n",
      "Best F1 threshold: -0.47979498\n",
      "-0.47979498\n",
      "\n",
      "\n",
      "brca\n",
      "progression\n",
      "AUC 0.8847066020551947\n",
      "Outcome probability: 0.14804469273743018\n",
      "Average precision score: 0.64\n",
      "Best F1: 0.5983658076681333\n",
      "Best F1 threshold: -1.7155408\n",
      "-1.7155408\n",
      "\n",
      "\n",
      "brca\n",
      "response\n",
      "AUC 0.9142421975065904\n",
      "Outcome probability: 0.12327746741154562\n",
      "Average precision score: 0.67\n",
      "Best F1: 0.6538725154215217\n",
      "Best F1 threshold: -1.3184949\n",
      "-1.3184949\n",
      "\n",
      "\n",
      "nsclc\n",
      "any_cancer\n",
      "AUC 0.9537676751785755\n",
      "Outcome probability: 0.8955511193497789\n",
      "Average precision score: 0.99\n",
      "Best F1: 0.9723079357544109\n",
      "Best F1 threshold: -1.6271152\n",
      "-1.6271152\n",
      "\n",
      "\n",
      "nsclc\n",
      "progression\n",
      "AUC 0.9117994298623063\n",
      "Outcome probability: 0.15970340795665194\n",
      "Average precision score: 0.74\n",
      "Best F1: 0.6837643069097076\n",
      "Best F1 threshold: -1.2010782\n",
      "-1.2010782\n",
      "\n",
      "\n",
      "nsclc\n",
      "response\n",
      "AUC 0.9441934589800444\n",
      "Outcome probability: 0.19292742050477685\n",
      "Average precision score: 0.81\n",
      "Best F1: 0.7628795632889799\n",
      "Best F1 threshold: -0.11696869\n",
      "-0.11696869\n",
      "\n",
      "\n",
      "crc\n",
      "any_cancer\n",
      "AUC 0.9619333872633447\n",
      "Outcome probability: 0.7366386554621849\n",
      "Average precision score: 0.98\n",
      "Best F1: 0.9486671571679212\n",
      "Best F1 threshold: 0.20457828\n",
      "0.20457828\n",
      "\n",
      "\n",
      "crc\n",
      "progression\n",
      "AUC 0.9272812844721281\n",
      "Outcome probability: 0.15739495798319328\n",
      "Average precision score: 0.70\n",
      "Best F1: 0.6991362763915547\n",
      "Best F1 threshold: -0.8871243\n",
      "-0.8871243\n",
      "\n",
      "\n",
      "crc\n",
      "response\n",
      "AUC 0.9535118976706848\n",
      "Outcome probability: 0.10798319327731093\n",
      "Average precision score: 0.73\n",
      "Best F1: 0.7114044737807113\n",
      "Best F1 threshold: 2.3012033\n",
      "2.3012033\n",
      "\n",
      "\n",
      "prostate\n",
      "any_cancer\n",
      "AUC 0.8955786761900317\n",
      "Outcome probability: 0.8651460584233693\n",
      "Average precision score: 0.98\n",
      "Best F1: 0.9459912780945992\n",
      "Best F1 threshold: -3.288071\n",
      "-3.288071\n",
      "\n",
      "\n",
      "prostate\n",
      "progression\n",
      "AUC 0.8781529570838504\n",
      "Outcome probability: 0.16906762705082032\n",
      "Average precision score: 0.65\n",
      "Best F1: 0.6295871559633028\n",
      "Best F1 threshold: -1.4696782\n",
      "-1.4696782\n",
      "\n",
      "\n",
      "prostate\n",
      "response\n",
      "AUC 0.8944356351686631\n",
      "Outcome probability: 0.10784313725490197\n",
      "Average precision score: 0.60\n",
      "Best F1: 0.6080305927342257\n",
      "Best F1 threshold: -0.8530632\n",
      "-0.8530632\n",
      "\n",
      "\n"
     ]
    },
    {
     "name": "stderr",
     "output_type": "stream",
     "text": [
      "/mnt/d/Dropbox (Partners HealthCare)/impression_bert/prissmm_medonc/utils_102023.py:111: RuntimeWarning: invalid value encountered in divide\n",
      "  F1 = 2*((precision*recall)/(precision+recall))\n"
     ]
    }
   ],
   "source": [
    "for cancer in output_dataset.cancer_type.unique():\n",
    "    subset = output_dataset[output_dataset.cancer_type == cancer]\n",
    "    for outcome in ['any_cancer','progression','response']:\n",
    "        print(cancer)\n",
    "        print(outcome)\n",
    "        print(eval_model(subset[outcome + '_logit'], subset[outcome], graph=False))\n",
    "        print(\"\\n\")\n",
    "    "
   ]
  },
  {
   "cell_type": "code",
   "execution_count": null,
   "id": "481970e6-f563-483a-8087-afc246630885",
   "metadata": {},
   "outputs": [],
   "source": []
  }
 ],
 "metadata": {
  "kernelspec": {
   "display_name": "Python 3 (ipykernel)",
   "language": "python",
   "name": "python3"
  },
  "language_info": {
   "codemirror_mode": {
    "name": "ipython",
    "version": 3
   },
   "file_extension": ".py",
   "mimetype": "text/x-python",
   "name": "python",
   "nbconvert_exporter": "python",
   "pygments_lexer": "ipython3",
   "version": "3.10.10"
  }
 },
 "nbformat": 4,
 "nbformat_minor": 5
}
