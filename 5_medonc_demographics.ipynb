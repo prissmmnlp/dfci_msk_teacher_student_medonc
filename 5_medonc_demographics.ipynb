{
 "cells": [
  {
   "cell_type": "code",
   "execution_count": 1,
   "id": "4c2b834c-8b0d-4ad4-86bc-7bdbc2252ff9",
   "metadata": {},
   "outputs": [],
   "source": [
    "import numpy as np\n",
    "import pandas as pd"
   ]
  },
  {
   "cell_type": "code",
   "execution_count": null,
   "id": "49c2c62f-8178-4210-b0e3-3a75e2f3d385",
   "metadata": {},
   "outputs": [],
   "source": [
    "# this notebook just calculates basic demographics for the dfci med onc cohort"
   ]
  },
  {
   "cell_type": "code",
   "execution_count": 2,
   "id": "9d88a4c4-1955-404d-9e97-2defd278593d",
   "metadata": {},
   "outputs": [],
   "source": [
    "prefix = '/mnt/d/Dropbox (Partners Healthcare)/'\n",
    "pt_dataset_list = []\n",
    "for cancer_type in ['nsclc_phase2_existing','crc','breast','pancreas','bladder','prostate']:\n",
    "    pts = pd.read_csv(prefix+'profile_3-2023/redcaps/' + cancer_type + '_ptchars.csv', low_memory=False)[['record_id','internal_mrn','genie_patient_id']]\n",
    "    pts = pts.sort_values(by=['record_id','internal_mrn']).reset_index(drop=True)\n",
    "    pts = pts.groupby('internal_mrn').first().reset_index(drop=False).rename(columns={'internal_mrn':'dfci_mrn'})\n",
    "    pts['cancer_type'] = cancer_type\n",
    "    pts = pts[['dfci_mrn','genie_patient_id','cancer_type']]\n",
    "    pt_dataset_list.append(pts)\n",
    "\n",
    "\n",
    "pt_dataset = pd.concat(pt_dataset_list, axis=0)\n",
    "\n",
    "pt_dataset = pt_dataset.groupby('dfci_mrn').first().reset_index()"
   ]
  },
  {
   "cell_type": "code",
   "execution_count": 4,
   "id": "ca0dd184-5c4c-4c07-9b31-cfeb615ef1ac",
   "metadata": {},
   "outputs": [
    {
     "name": "stdout",
     "output_type": "stream",
     "text": [
      "<class 'pandas.core.frame.DataFrame'>\n",
      "RangeIndex: 6124 entries, 0 to 6123\n",
      "Data columns (total 3 columns):\n",
      " #   Column            Non-Null Count  Dtype  \n",
      "---  ------            --------------  -----  \n",
      " 0   dfci_mrn          6124 non-null   float64\n",
      " 1   genie_patient_id  6091 non-null   object \n",
      " 2   cancer_type       6124 non-null   object \n",
      "dtypes: float64(1), object(2)\n",
      "memory usage: 143.7+ KB\n"
     ]
    }
   ],
   "source": [
    "pt_dataset.info()"
   ]
  },
  {
   "cell_type": "code",
   "execution_count": 5,
   "id": "0b99323d-2702-4e08-976f-9702146e3c3f",
   "metadata": {},
   "outputs": [],
   "source": [
    "prefix = '/mnt/d/Dropbox (Partners Healthcare)/profile_3-2023/'\n",
    "\n",
    "specimens = pd.read_csv(prefix+'structured_data/REQ_KK71_105304_2_GENOMIC_SPECIMEN.csv', encoding='ISO-8859-1', low_memory=False)\n",
    "specimens = specimens[['DFCI_MRN', 'TEST_ORDER_DT']]\n",
    "specimens['TEST_ORDER_DT'] = pd.to_datetime(specimens.TEST_ORDER_DT)\n",
    "specimens = specimens.sort_values(by=['DFCI_MRN','TEST_ORDER_DT']).groupby('DFCI_MRN').first().reset_index()\n"
   ]
  },
  {
   "cell_type": "code",
   "execution_count": 6,
   "id": "33176607-65b1-4408-85b4-d94d368e3205",
   "metadata": {},
   "outputs": [
    {
     "name": "stdout",
     "output_type": "stream",
     "text": [
      "<class 'pandas.core.frame.DataFrame'>\n",
      "RangeIndex: 52058 entries, 0 to 52057\n",
      "Data columns (total 2 columns):\n",
      " #   Column         Non-Null Count  Dtype         \n",
      "---  ------         --------------  -----         \n",
      " 0   DFCI_MRN       52058 non-null  int64         \n",
      " 1   TEST_ORDER_DT  52058 non-null  datetime64[ns]\n",
      "dtypes: datetime64[ns](1), int64(1)\n",
      "memory usage: 813.5 KB\n"
     ]
    }
   ],
   "source": [
    "specimens.info()"
   ]
  },
  {
   "cell_type": "code",
   "execution_count": null,
   "id": "c752066b-4cb4-4e13-a6e9-437afca09e50",
   "metadata": {},
   "outputs": [],
   "source": []
  },
  {
   "cell_type": "code",
   "execution_count": null,
   "id": "671c1d8a-0ada-4893-ad51-00332d74f191",
   "metadata": {},
   "outputs": [],
   "source": [
    "registration = pd.read_csv(prefix+'structured_data/REQ_KK71_105304_2_PT_INFO_STATUS_REGISTRATION.csv', sep=',', encoding='iso-8859-1', low_memory=False)\n",
    "registration = registration.groupby('DFCI_MRN').first().reset_index()\n",
    "registration = registration[['DFCI_MRN','GENDER_NM','BIRTH_DT']]\n",
    "registration['BIRTH_DT'] = pd.to_datetime(registration.BIRTH_DT)\n",
    "\n",
    "registration = pd.merge(registration, specimens, on='DFCI_MRN')\n",
    "registration['age_at_sequencing'] = (registration.TEST_ORDER_DT - registration.BIRTH_DT) / np.timedelta64(1, 'Y')\n",
    "#registration.head()"
   ]
  },
  {
   "cell_type": "code",
   "execution_count": 12,
   "id": "94e979aa-2337-40ac-a096-e514b1b21ac4",
   "metadata": {},
   "outputs": [
    {
     "name": "stdout",
     "output_type": "stream",
     "text": [
      "<class 'pandas.core.frame.DataFrame'>\n",
      "RangeIndex: 56869 entries, 0 to 56868\n",
      "Data columns (total 35 columns):\n",
      " #   Column                         Non-Null Count  Dtype  \n",
      "---  ------                         --------------  -----  \n",
      " 0   DFCI_MRN                       56869 non-null  int64  \n",
      " 1   DR_REQUEST_SEQ                 56869 non-null  int64  \n",
      " 2   PATIENT_ID                     56869 non-null  int64  \n",
      " 3   SRC_DIM_SEQ                    56869 non-null  int64  \n",
      " 4   MARITAL_STATUS_NM              56869 non-null  object \n",
      " 5   RELIGION_NM                    56869 non-null  object \n",
      " 6   EDUCATION_LEVEL_NM             56869 non-null  object \n",
      " 7   BIRTHPLACE_NM                  52541 non-null  object \n",
      " 8   PRIM_LANG_NM                   56869 non-null  object \n",
      " 9   WRITTEN_LANG_NM                56869 non-null  object \n",
      " 10  ETHNICITY_1_NM                 56837 non-null  object \n",
      " 11  ETHNICITY_2_NM                 4744 non-null   object \n",
      " 12  ETHNICITY_3_NM                 490 non-null    object \n",
      " 13  HISPANIC_IND                   56869 non-null  object \n",
      " 14  RACE_WHITE_IND                 56869 non-null  object \n",
      " 15  RACE_BLACK_IND                 56869 non-null  object \n",
      " 16  RACE_ASIAN_IND                 56869 non-null  object \n",
      " 17  RACE_AM_INDIAN_ALASKAN_IND     56869 non-null  object \n",
      " 18  RACE_NAT_HAWAIIAN_PACIFIC_IND  56869 non-null  object \n",
      " 19  RACE_UNKNOWN_IND               56869 non-null  object \n",
      " 20  RACE_OTHER_IND                 56869 non-null  object \n",
      " 21  IDM_RACE_NM                    56869 non-null  object \n",
      " 22  HOME_CITY_NM                   56864 non-null  object \n",
      " 23  HOME_STATE_PROVINCE_NM         56783 non-null  object \n",
      " 24  HOME_ZIP_CD                    56779 non-null  object \n",
      " 25  HOME_COUNTRY_NM                56862 non-null  object \n",
      " 26  OCCUPATION_FREE_TEXT           4401 non-null   object \n",
      " 27  EMPLOYMENT_STATUS_NM           40090 non-null  object \n",
      " 28  TRANSPLANT_IND                 54661 non-null  object \n",
      " 29  INTERPRETER_REQUIRED_IND       55918 non-null  object \n",
      " 30  SRC_NM                         56869 non-null  object \n",
      " 31  SRC_INST                       56869 non-null  object \n",
      " 32  SOURCE_EXTRACT_DTTM            56869 non-null  object \n",
      " 33  RECORD_CREATE_DT               56869 non-null  object \n",
      " 34  Unnamed: 34                    0 non-null      float64\n",
      "dtypes: float64(1), int64(4), object(30)\n",
      "memory usage: 15.2+ MB\n"
     ]
    }
   ],
   "source": [
    "demographics = pd.read_csv(prefix+'structured_data/REQ_KK71_105304_2_DEMOGRAPHICS_REGISTRATION.csv', sep=',', encoding='iso-8859-1', low_memory=False)\n",
    "demographics = demographics.groupby('DFCI_MRN').first().reset_index()\n",
    "demographics.info()"
   ]
  },
  {
   "cell_type": "code",
   "execution_count": 13,
   "id": "cdac5a73-3770-467f-a9ec-1a03e7ee864d",
   "metadata": {},
   "outputs": [],
   "source": [
    "demographics['race'] = np.select([\n",
    "    demographics.RACE_NAT_HAWAIIAN_PACIFIC_IND == 'Y',\n",
    "    demographics.RACE_AM_INDIAN_ALASKAN_IND == 'Y',\n",
    "    demographics.RACE_BLACK_IND == 'Y',\n",
    "    demographics.RACE_ASIAN_IND == 'Y',\n",
    "    demographics.RACE_WHITE_IND == 'Y'],\n",
    "    ['Native Hawaiian/Pacific Islander',\n",
    "     'American Indian/Alaskan',\n",
    "     'Black',\n",
    "     'Asian',\n",
    "     'White'],\n",
    "     'Other/unknown')\n",
    "\n",
    "demographics = demographics[['DFCI_MRN','race','HISPANIC_IND']]"
   ]
  },
  {
   "cell_type": "code",
   "execution_count": 14,
   "id": "dc0af123-1711-43bd-a638-094db2a96bd3",
   "metadata": {},
   "outputs": [],
   "source": [
    "demographics = pd.merge(demographics, registration, on='DFCI_MRN')"
   ]
  },
  {
   "cell_type": "code",
   "execution_count": 15,
   "id": "6ea95497-1e5b-48ae-9287-0513045a2c4f",
   "metadata": {},
   "outputs": [
    {
     "data": {
      "text/plain": [
       "FEMALE     27226\n",
       "MALE       24830\n",
       "UNKNOWN        2\n",
       "Name: GENDER_NM, dtype: int64"
      ]
     },
     "execution_count": 15,
     "metadata": {},
     "output_type": "execute_result"
    }
   ],
   "source": [
    "demographics.GENDER_NM.value_counts()"
   ]
  },
  {
   "cell_type": "code",
   "execution_count": 16,
   "id": "d97266a7-2b91-4ad7-a9c2-ae817e991e9d",
   "metadata": {},
   "outputs": [],
   "source": [
    "demographics = demographics.rename(columns={'DFCI_MRN':'dfci_mrn'})"
   ]
  },
  {
   "cell_type": "code",
   "execution_count": 1,
   "id": "d1223132-bbe5-4dfd-bd14-3f547831c104",
   "metadata": {},
   "outputs": [],
   "source": [
    "#demographics.head()"
   ]
  },
  {
   "cell_type": "code",
   "execution_count": 19,
   "id": "75cd0859-ed70-4639-a72d-b0d1dcb4164a",
   "metadata": {},
   "outputs": [],
   "source": [
    "demographics['agecat'] = np.select([\n",
    "    demographics.age_at_sequencing < 30,\n",
    "    demographics.age_at_sequencing < 40,\n",
    "    demographics.age_at_sequencing < 50,\n",
    "    demographics.age_at_sequencing < 60,\n",
    "    demographics.age_at_sequencing < 70,\n",
    "    demographics.age_at_sequencing < 80,\n",
    "    True\n",
    "],\n",
    "    ['< 30',\n",
    "     '30-39',\n",
    "     '40-49',\n",
    "     '50-59',\n",
    "     '60-69',\n",
    "     '70-79',\n",
    "     '80+'])"
   ]
  },
  {
   "cell_type": "code",
   "execution_count": 20,
   "id": "23b83ff4-042e-4def-945a-c88f2ee2ff9b",
   "metadata": {},
   "outputs": [],
   "source": [
    "reports = pd.read_csv('/mnt/d/Dropbox (Partners HealthCare)/profile_3-2023/derived_data/labeled_medonc_prissmm_mixedisprog.csv')"
   ]
  },
  {
   "cell_type": "code",
   "execution_count": 21,
   "id": "b5d6e8ca-eb2a-4946-bc98-ec856035e680",
   "metadata": {},
   "outputs": [],
   "source": [
    "reports = pd.merge(reports, demographics, on='dfci_mrn')"
   ]
  },
  {
   "cell_type": "code",
   "execution_count": 22,
   "id": "fcb3ec88-e8d6-4846-a345-f6b2a24d0e95",
   "metadata": {},
   "outputs": [
    {
     "name": "stdout",
     "output_type": "stream",
     "text": [
      "<class 'pandas.core.frame.DataFrame'>\n",
      "Int64Index: 39191 entries, 0 to 39190\n",
      "Data columns (total 24 columns):\n",
      " #   Column                    Non-Null Count  Dtype         \n",
      "---  ------                    --------------  -----         \n",
      " 0   Unnamed: 0.1              39191 non-null  int64         \n",
      " 1   dfci_mrn                  39191 non-null  float64       \n",
      " 2   cancer_type               39191 non-null  object        \n",
      " 3   date                      39191 non-null  object        \n",
      " 4   any_cancer                39191 non-null  int64         \n",
      " 5   progression               39191 non-null  int64         \n",
      " 6   response                  39191 non-null  int64         \n",
      " 7   Unnamed: 0                39191 non-null  int64         \n",
      " 8   text                      39191 non-null  object        \n",
      " 9   PROVIDER_DEPARTMENT       39191 non-null  object        \n",
      " 10  patient_id                39191 non-null  int64         \n",
      " 11  hybrid_death_ind          39191 non-null  object        \n",
      " 12  hybrid_death_dt           24128 non-null  object        \n",
      " 13  primary_cancer_diagnosis  39191 non-null  object        \n",
      " 14  genomics_date             39191 non-null  object        \n",
      " 15  after_profile             39191 non-null  int64         \n",
      " 16  split                     39191 non-null  object        \n",
      " 17  race                      39191 non-null  object        \n",
      " 18  HISPANIC_IND              39191 non-null  object        \n",
      " 19  GENDER_NM                 39191 non-null  object        \n",
      " 20  BIRTH_DT                  39191 non-null  datetime64[ns]\n",
      " 21  TEST_ORDER_DT             39191 non-null  datetime64[ns]\n",
      " 22  age_at_sequencing         39191 non-null  float64       \n",
      " 23  agecat                    39191 non-null  object        \n",
      "dtypes: datetime64[ns](2), float64(2), int64(7), object(13)\n",
      "memory usage: 7.5+ MB\n"
     ]
    }
   ],
   "source": [
    "# now merged demographics to report anotations\n",
    "reports.info()"
   ]
  },
  {
   "cell_type": "code",
   "execution_count": null,
   "id": "ef8bdb91-c9df-4f35-b04c-94eaa0b53b52",
   "metadata": {},
   "outputs": [],
   "source": []
  },
  {
   "cell_type": "code",
   "execution_count": 24,
   "id": "b168808d-baaa-4f81-a950-d070b1b0b064",
   "metadata": {},
   "outputs": [
    {
     "data": {
      "text/plain": [
       "(39191, 24)"
      ]
     },
     "execution_count": 24,
     "metadata": {},
     "output_type": "execute_result"
    }
   ],
   "source": [
    "report_demographics = reports.copy()\n",
    "report_demographics.shape"
   ]
  },
  {
   "cell_type": "code",
   "execution_count": 25,
   "id": "4271fc9a-cab0-4a94-9c5e-8baaf8b72c7b",
   "metadata": {},
   "outputs": [
    {
     "data": {
      "text/plain": [
       "(3588, 23)"
      ]
     },
     "execution_count": 25,
     "metadata": {},
     "output_type": "execute_result"
    }
   ],
   "source": [
    "report_demographics.groupby('dfci_mrn').first().shape"
   ]
  },
  {
   "cell_type": "code",
   "execution_count": 27,
   "id": "7f5e4760-2164-454f-b33d-a73cd1a711ff",
   "metadata": {},
   "outputs": [
    {
     "name": "stdout",
     "output_type": "stream",
     "text": [
      "document level\n",
      "GENDER_NM\n",
      "MALE      20239\n",
      "FEMALE    18952\n",
      "Name: GENDER_NM, dtype: int64\n",
      "MALE      0.51642\n",
      "FEMALE    0.48358\n",
      "Name: GENDER_NM, dtype: float64\n",
      "\n",
      "\n",
      "document level\n",
      "race\n",
      "White                      35054\n",
      "Black                       1402\n",
      "Asian                       1399\n",
      "Other/unknown               1319\n",
      "American Indian/Alaskan       17\n",
      "Name: race, dtype: int64\n",
      "White                      0.894440\n",
      "Black                      0.035774\n",
      "Asian                      0.035697\n",
      "Other/unknown              0.033656\n",
      "American Indian/Alaskan    0.000434\n",
      "Name: race, dtype: float64\n",
      "\n",
      "\n",
      "document level\n",
      "HISPANIC_IND\n",
      "N    38301\n",
      "Y      890\n",
      "Name: HISPANIC_IND, dtype: int64\n",
      "N    0.977291\n",
      "Y    0.022709\n",
      "Name: HISPANIC_IND, dtype: float64\n",
      "\n",
      "\n",
      "document level\n",
      "agecat\n",
      "60-69    11746\n",
      "50-59    10237\n",
      "70-79     7876\n",
      "40-49     5315\n",
      "80+       2040\n",
      "30-39     1743\n",
      "< 30       234\n",
      "Name: agecat, dtype: int64\n",
      "60-69    0.299712\n",
      "50-59    0.261208\n",
      "70-79    0.200965\n",
      "40-49    0.135618\n",
      "80+      0.052053\n",
      "30-39    0.044474\n",
      "< 30     0.005971\n",
      "Name: agecat, dtype: float64\n",
      "\n",
      "\n",
      "document level\n",
      "cancer_type\n",
      "crc                      7270\n",
      "nsclc_phase2_new         6522\n",
      "prostate                 5948\n",
      "breast                   5244\n",
      "nsclc_phase2_existing    4838\n",
      "pancreas                 3709\n",
      "rcc_barkouny             3395\n",
      "bladder                  2265\n",
      "Name: cancer_type, dtype: int64\n",
      "crc                      0.185502\n",
      "nsclc_phase2_new         0.166416\n",
      "prostate                 0.151770\n",
      "breast                   0.133806\n",
      "nsclc_phase2_existing    0.123447\n",
      "pancreas                 0.094639\n",
      "rcc_barkouny             0.086627\n",
      "bladder                  0.057794\n",
      "Name: cancer_type, dtype: float64\n",
      "\n",
      "\n",
      "document level\n",
      "any_cancer\n",
      "1    30736\n",
      "0     8455\n",
      "Name: any_cancer, dtype: int64\n",
      "1    0.784262\n",
      "0    0.215738\n",
      "Name: any_cancer, dtype: float64\n",
      "\n",
      "\n",
      "document level\n",
      "progression\n",
      "0    32759\n",
      "1     6432\n",
      "Name: progression, dtype: int64\n",
      "0    0.835881\n",
      "1    0.164119\n",
      "Name: progression, dtype: float64\n",
      "\n",
      "\n",
      "document level\n",
      "response\n",
      "0    34205\n",
      "1     4986\n",
      "Name: response, dtype: int64\n",
      "0    0.872777\n",
      "1    0.127223\n",
      "Name: response, dtype: float64\n",
      "\n",
      "\n"
     ]
    }
   ],
   "source": [
    "for var in ['GENDER_NM', 'race', 'HISPANIC_IND','agecat', 'cancer_type','any_cancer','progression','response']:\n",
    "    print('document level')\n",
    "    print(var)\n",
    "    print(report_demographics[var].value_counts())\n",
    "    print(report_demographics[var].value_counts()/report_demographics.shape[0])\n",
    "    print(\"\\n\")"
   ]
  },
  {
   "cell_type": "code",
   "execution_count": null,
   "id": "43522347-c58c-47d3-80c1-355711da6ed7",
   "metadata": {},
   "outputs": [],
   "source": []
  },
  {
   "cell_type": "code",
   "execution_count": 28,
   "id": "6a3c540c-f364-4982-9836-5f71048d1906",
   "metadata": {},
   "outputs": [],
   "source": [
    "patient_demographics = reports.groupby('dfci_mrn').first().copy()"
   ]
  },
  {
   "cell_type": "code",
   "execution_count": 29,
   "id": "e52c2943-57ef-49a9-807d-411f4711583a",
   "metadata": {},
   "outputs": [
    {
     "name": "stdout",
     "output_type": "stream",
     "text": [
      "patient level\n",
      "GENDER_NM\n",
      "MALE      1897\n",
      "FEMALE    1691\n",
      "Name: GENDER_NM, dtype: int64\n",
      "MALE      0.528707\n",
      "FEMALE    0.471293\n",
      "Name: GENDER_NM, dtype: float64\n",
      "\n",
      "\n",
      "patient level\n",
      "race\n",
      "White                      3227\n",
      "Asian                       123\n",
      "Black                       119\n",
      "Other/unknown               115\n",
      "American Indian/Alaskan       4\n",
      "Name: race, dtype: int64\n",
      "White                      0.899387\n",
      "Asian                      0.034281\n",
      "Black                      0.033166\n",
      "Other/unknown              0.032051\n",
      "American Indian/Alaskan    0.001115\n",
      "Name: race, dtype: float64\n",
      "\n",
      "\n",
      "patient level\n",
      "HISPANIC_IND\n",
      "N    3504\n",
      "Y      84\n",
      "Name: HISPANIC_IND, dtype: int64\n",
      "N    0.976589\n",
      "Y    0.023411\n",
      "Name: HISPANIC_IND, dtype: float64\n",
      "\n",
      "\n",
      "patient level\n",
      "agecat\n",
      "60-69    1106\n",
      "50-59     874\n",
      "70-79     779\n",
      "40-49     405\n",
      "80+       248\n",
      "30-39     153\n",
      "< 30       23\n",
      "Name: agecat, dtype: int64\n",
      "60-69    0.308250\n",
      "50-59    0.243590\n",
      "70-79    0.217113\n",
      "40-49    0.112876\n",
      "80+      0.069119\n",
      "30-39    0.042642\n",
      "< 30     0.006410\n",
      "Name: agecat, dtype: float64\n",
      "\n",
      "\n",
      "patient level\n",
      "cancer_type\n",
      "crc                      679\n",
      "nsclc_phase2_new         650\n",
      "nsclc_phase2_existing    500\n",
      "prostate                 464\n",
      "pancreas                 440\n",
      "breast                   381\n",
      "rcc_barkouny             267\n",
      "bladder                  207\n",
      "Name: cancer_type, dtype: int64\n",
      "crc                      0.189242\n",
      "nsclc_phase2_new         0.181159\n",
      "nsclc_phase2_existing    0.139353\n",
      "prostate                 0.129320\n",
      "pancreas                 0.122631\n",
      "breast                   0.106187\n",
      "rcc_barkouny             0.074415\n",
      "bladder                  0.057692\n",
      "Name: cancer_type, dtype: float64\n",
      "\n",
      "\n",
      "patient level\n",
      "any_cancer\n",
      "1    2770\n",
      "0     818\n",
      "Name: any_cancer, dtype: int64\n",
      "1    0.772018\n",
      "0    0.227982\n",
      "Name: any_cancer, dtype: float64\n",
      "\n",
      "\n",
      "patient level\n",
      "progression\n",
      "0    2985\n",
      "1     603\n",
      "Name: progression, dtype: int64\n",
      "0    0.83194\n",
      "1    0.16806\n",
      "Name: progression, dtype: float64\n",
      "\n",
      "\n",
      "patient level\n",
      "response\n",
      "0    3402\n",
      "1     186\n",
      "Name: response, dtype: int64\n",
      "0    0.948161\n",
      "1    0.051839\n",
      "Name: response, dtype: float64\n",
      "\n",
      "\n"
     ]
    }
   ],
   "source": [
    "for var in ['GENDER_NM', 'race', 'HISPANIC_IND','agecat', 'cancer_type','any_cancer','progression','response']:\n",
    "    print('patient level')\n",
    "    print(var)\n",
    "    print(patient_demographics[var].value_counts())\n",
    "    print(patient_demographics[var].value_counts()/patient_demographics.shape[0])\n",
    "    print(\"\\n\")"
   ]
  },
  {
   "cell_type": "code",
   "execution_count": null,
   "id": "ad923fe1-b70e-4b27-a8af-dfd783fdaf1d",
   "metadata": {},
   "outputs": [],
   "source": []
  }
 ],
 "metadata": {
  "kernelspec": {
   "display_name": "Python 3 (ipykernel)",
   "language": "python",
   "name": "python3"
  },
  "language_info": {
   "codemirror_mode": {
    "name": "ipython",
    "version": 3
   },
   "file_extension": ".py",
   "mimetype": "text/x-python",
   "name": "python",
   "nbconvert_exporter": "python",
   "pygments_lexer": "ipython3",
   "version": "3.10.10"
  }
 },
 "nbformat": 4,
 "nbformat_minor": 5
}
